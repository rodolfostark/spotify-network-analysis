{
 "cells": [
  {
   "cell_type": "code",
   "execution_count": 5,
   "id": "f1635ce4",
   "metadata": {},
   "outputs": [],
   "source": [
    "# Importando os módulos do NetworkX e Seaborn\n",
    "import json\n",
    "import numpy as np\n",
    "import pandas as pd\n",
    "import seaborn as sns\n",
    "import networkx as nx"
   ]
  },
  {
   "cell_type": "markdown",
   "id": "5c9ed612",
   "metadata": {},
   "source": [
    "# Generating the network\n",
    "As a first step for the analysis of the dataset, it is needed to generate a proper network for all the following up analysis. This is done by creating a co-occurence network of the spotify's artists names from samples of the dataset's playlists.\n",
    "\n",
    "For this, we'll need the help of the an adaption of the code found in [vaslnk's repository](https://github.com/vaslnk/Spotify-Song-Recommendation-ML/blob/master/restructureData.py)"
   ]
  },
  {
   "cell_type": "code",
   "execution_count": 76,
   "id": "a7058d66",
   "metadata": {},
   "outputs": [],
   "source": [
    "def get_list_of_slices(list_size: int) -> list:\n",
    "    '''\n",
    "    Generates a list of random file names of the dataset of spotify's playlists\n",
    "\n",
    "    Parameters:\n",
    "        list_size (int): size of the list of slices\n",
    "    Output:\n",
    "        slices2use (list): list of slices paths\n",
    "    '''\n",
    "    try:\n",
    "        from numpy.random import randint\n",
    "    except ModuleNotFoundError:\n",
    "        print('Numpy is not installed. Please install it to use this function.')\n",
    "        return\n",
    "\n",
    "    # slices goes from 0-999 to 999000-999999\n",
    "    MIN_VALUE = 0\n",
    "    MAX_VALUE = 1000000 # top limit is non inclusive\n",
    "    slices = randint(MIN_VALUE, MAX_VALUE, size=list_size)\n",
    "\n",
    "    slices2use = []\n",
    "    for slice_id in slices:\n",
    "        # normalizing the limits of the slice in the filename (this removes the last 3 digits)\n",
    "        SLICE_START = int(slice_id/1000) * 1000;\n",
    "        SLICE_END = SLICE_START + 999;\n",
    "        slice_path = 'mpd.slice.' + str(SLICE_START) + '-' + str(SLICE_END) + '.json'\n",
    "        slices2use.append(slice_path)\n",
    "    \n",
    "    return slices2use\n",
    "\n",
    "def list_slices_filepaths(slices_path: str) -> list:\n",
    "    '''\n",
    "    Generates a list of file names of the dataset of spotify's playlists saved on data/ repository\n",
    "\n",
    "    Parameters:\n",
    "        slices_path (str): path to the folder containing the slices\n",
    "    Output:\n",
    "        slices2use (list): list of slices paths\n",
    "    '''\n",
    "    try:\n",
    "        from os import listdir\n",
    "    except ModuleNotFoundError:\n",
    "        print('os is not installed. Please install it to use this function.')\n",
    "        return\n",
    "\n",
    "    slices2use = []\n",
    "    for file in listdir(slices_path):\n",
    "        slices2use.append(file)\n",
    "    \n",
    "    return slices2use"
   ]
  },
  {
   "cell_type": "code",
   "execution_count": 92,
   "id": "54371d10",
   "metadata": {},
   "outputs": [],
   "source": [
    "def jsonToCSV(slices2use: list) -> None:\n",
    "    '''\n",
    "    Converts the json files of the dataset of spotify's playlists  on 'data/' to csv files\n",
    "\n",
    "    Parameters:\n",
    "        slices2use (list): list of slices paths\n",
    "    Output:\n",
    "        None\n",
    "    '''\n",
    "    for slice_path in slices2use:\n",
    "        artist_playlist_array = []\n",
    "\n",
    "        path = 'data/' + slice_path\n",
    "        slice_data = json.load(open(path, 'r'))\n",
    "        slice_df = pd.DataFrame.from_dict(slice_data['playlists'], orient='columns')\n",
    "\n",
    "        for _, playlist in slice_df.iterrows():\n",
    "            for track in playlist['tracks']:\n",
    "                artist_playlist_array.append([track['artist_name'], playlist['pid']])\n",
    "\n",
    "        artist_playlist_df = pd.DataFrame(artist_playlist_array, columns=['artist_name', 'pid'])\n",
    "        artist_playlist_df.to_csv('data_CSV/' + slice_path.replace('.json', '') + '.csv', index=False)"
   ]
  },
  {
   "cell_type": "code",
   "execution_count": 93,
   "id": "6d170cb2",
   "metadata": {},
   "outputs": [],
   "source": [
    "slices_paths = list_slices_filepaths('data/')\n",
    "jsonToCSV(slices_paths)"
   ]
  }
 ],
 "metadata": {
  "kernelspec": {
   "display_name": "Python 3 (ipykernel)",
   "language": "python",
   "name": "python3"
  },
  "language_info": {
   "codemirror_mode": {
    "name": "ipython",
    "version": 3
   },
   "file_extension": ".py",
   "mimetype": "text/x-python",
   "name": "python",
   "nbconvert_exporter": "python",
   "pygments_lexer": "ipython3",
   "version": "3.10.0"
  }
 },
 "nbformat": 4,
 "nbformat_minor": 5
}
