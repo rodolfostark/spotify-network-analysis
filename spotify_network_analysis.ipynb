{
 "cells": [
  {
   "cell_type": "code",
   "execution_count": 1,
   "id": "f1635ce4",
   "metadata": {},
   "outputs": [],
   "source": [
    "# Importando os módulos necessários para a execução do projeto\n",
    "import json\n",
    "import numpy as np\n",
    "import pandas as pd\n",
    "import seaborn as sns\n",
    "import networkx as nx\n",
    "from collections import deque\n",
    "import matplotlib.pyplot as plt"
   ]
  },
  {
   "cell_type": "markdown",
   "id": "5c9ed612",
   "metadata": {},
   "source": [
    "# Generating the network\n",
    "As a first step for the analysis of the dataset, it is needed to generate a proper network for all the following up analysis. This is done by creating a co-occurence network of the spotify's artists names from samples of the dataset's playlists.\n",
    "\n",
    "For this, we'll need the help of the an adaption of the code found in [vaslnk's repository](https://github.com/vaslnk/Spotify-Song-Recommendation-ML/blob/master/restructureData.py)"
   ]
  },
  {
   "cell_type": "code",
   "execution_count": 2,
   "id": "0b4e232c",
   "metadata": {},
   "outputs": [],
   "source": [
    "from utils import list_slices_filepaths\n",
    "\n",
    "def full_artists_data() -> pd.DataFrame:\n",
    "    \"\"\"\n",
    "    Concat all the .csv's in the data_CSV folder and returns a DataFrame\n",
    "    Parameters:\n",
    "    -----------\n",
    "        None\n",
    "    Output:\n",
    "    -------\n",
    "        slice_df: pd.DataFrame\n",
    "    \"\"\"\n",
    "    slice_df_array = []\n",
    "    for slice_filename in list_slices_filepaths('data_CSV/'):\n",
    "        slice_path = 'data_CSV/' + slice_filename\n",
    "        slice_df = pd.read_csv(slice_path)\n",
    "        slice_df_array.append(slice_df)\n",
    "    slice_df = pd.concat(slice_df_array)\n",
    "\n",
    "    return slice_df"
   ]
  },
  {
   "cell_type": "code",
   "execution_count": 3,
   "id": "bfbb182d",
   "metadata": {},
   "outputs": [
    {
     "data": {
      "text/html": [
       "<div>\n",
       "<style scoped>\n",
       "    .dataframe tbody tr th:only-of-type {\n",
       "        vertical-align: middle;\n",
       "    }\n",
       "\n",
       "    .dataframe tbody tr th {\n",
       "        vertical-align: top;\n",
       "    }\n",
       "\n",
       "    .dataframe thead th {\n",
       "        text-align: right;\n",
       "    }\n",
       "</style>\n",
       "<table border=\"1\" class=\"dataframe\">\n",
       "  <thead>\n",
       "    <tr style=\"text-align: right;\">\n",
       "      <th></th>\n",
       "      <th>artist_name</th>\n",
       "      <th>pid</th>\n",
       "    </tr>\n",
       "  </thead>\n",
       "  <tbody>\n",
       "    <tr>\n",
       "      <th>0</th>\n",
       "      <td>Shawn Mendes</td>\n",
       "      <td>161000</td>\n",
       "    </tr>\n",
       "    <tr>\n",
       "      <th>1</th>\n",
       "      <td>Cheat Codes</td>\n",
       "      <td>161000</td>\n",
       "    </tr>\n",
       "    <tr>\n",
       "      <th>2</th>\n",
       "      <td>DJ Khaled</td>\n",
       "      <td>161000</td>\n",
       "    </tr>\n",
       "    <tr>\n",
       "      <th>3</th>\n",
       "      <td>Natasha Bedingfield</td>\n",
       "      <td>161000</td>\n",
       "    </tr>\n",
       "    <tr>\n",
       "      <th>4</th>\n",
       "      <td>Tove Lo</td>\n",
       "      <td>161000</td>\n",
       "    </tr>\n",
       "  </tbody>\n",
       "</table>\n",
       "</div>"
      ],
      "text/plain": [
       "           artist_name     pid\n",
       "0         Shawn Mendes  161000\n",
       "1          Cheat Codes  161000\n",
       "2            DJ Khaled  161000\n",
       "3  Natasha Bedingfield  161000\n",
       "4              Tove Lo  161000"
      ]
     },
     "execution_count": 3,
     "metadata": {},
     "output_type": "execute_result"
    }
   ],
   "source": [
    "artists_df = full_artists_data()\n",
    "artists_df.head()"
   ]
  },
  {
   "cell_type": "code",
   "execution_count": 4,
   "id": "a0da3d3d",
   "metadata": {},
   "outputs": [
    {
     "data": {
      "text/html": [
       "<div>\n",
       "<style scoped>\n",
       "    .dataframe tbody tr th:only-of-type {\n",
       "        vertical-align: middle;\n",
       "    }\n",
       "\n",
       "    .dataframe tbody tr th {\n",
       "        vertical-align: top;\n",
       "    }\n",
       "\n",
       "    .dataframe thead th {\n",
       "        text-align: right;\n",
       "    }\n",
       "</style>\n",
       "<table border=\"1\" class=\"dataframe\">\n",
       "  <thead>\n",
       "    <tr style=\"text-align: right;\">\n",
       "      <th></th>\n",
       "      <th>artist_name</th>\n",
       "      <th>pid</th>\n",
       "    </tr>\n",
       "  </thead>\n",
       "  <tbody>\n",
       "    <tr>\n",
       "      <th>0</th>\n",
       "      <td>Shawn Mendes</td>\n",
       "      <td>161000</td>\n",
       "    </tr>\n",
       "    <tr>\n",
       "      <th>1</th>\n",
       "      <td>Cheat Codes</td>\n",
       "      <td>161000</td>\n",
       "    </tr>\n",
       "    <tr>\n",
       "      <th>2</th>\n",
       "      <td>DJ Khaled</td>\n",
       "      <td>161000</td>\n",
       "    </tr>\n",
       "    <tr>\n",
       "      <th>3</th>\n",
       "      <td>Natasha Bedingfield</td>\n",
       "      <td>161000</td>\n",
       "    </tr>\n",
       "    <tr>\n",
       "      <th>4</th>\n",
       "      <td>Tove Lo</td>\n",
       "      <td>161000</td>\n",
       "    </tr>\n",
       "  </tbody>\n",
       "</table>\n",
       "</div>"
      ],
      "text/plain": [
       "           artist_name     pid\n",
       "0         Shawn Mendes  161000\n",
       "1          Cheat Codes  161000\n",
       "2            DJ Khaled  161000\n",
       "3  Natasha Bedingfield  161000\n",
       "4              Tove Lo  161000"
      ]
     },
     "execution_count": 4,
     "metadata": {},
     "output_type": "execute_result"
    }
   ],
   "source": [
    "artists_df['artist_name'] = artists_df['artist_name'].apply(lambda x: x.replace('$', 'S'))\n",
    "artists_df.head()"
   ]
  },
  {
   "cell_type": "code",
   "execution_count": 5,
   "id": "51b36cc6",
   "metadata": {},
   "outputs": [
    {
     "name": "stdout",
     "output_type": "stream",
     "text": [
      "Data shape: (269580, 2)\n",
      "Number of unique artists: 22626\n"
     ]
    }
   ],
   "source": [
    "print(f'Data shape: {artists_df.shape}')\n",
    "print(f'Number of unique artists: {artists_df.artist_name.nunique()}')"
   ]
  },
  {
   "cell_type": "code",
   "execution_count": 6,
   "id": "d44d6ddd",
   "metadata": {},
   "outputs": [
    {
     "data": {
      "text/plain": [
       "pid\n",
       "161000    [Shawn Mendes, Cheat Codes, DJ Khaled, Natasha...\n",
       "161001    [Counting Crows, Sister Hazel, Gin Blossoms, N...\n",
       "161002    [George Strait, George Strait, George Strait, ...\n",
       "161003    [Gipsy Kings, Gipsy Kings, Texas Tornados, Fla...\n",
       "161004    [N2DEEP, Warren G, Westside Connection, Digabl...\n",
       "Name: artist_name, dtype: object"
      ]
     },
     "execution_count": 6,
     "metadata": {},
     "output_type": "execute_result"
    }
   ],
   "source": [
    "# pd.Series where each row is a index=PID and value=list of all artists (repeated)\n",
    "# then needing a count on these 'value' values\n",
    "artist_df_minimal = artists_df.groupby('pid')['artist_name'].apply(list)\n",
    "artist_df_minimal.head()"
   ]
  },
  {
   "cell_type": "code",
   "execution_count": 7,
   "id": "f31b9ae8",
   "metadata": {},
   "outputs": [],
   "source": [
    "for PID, artists in artist_df_minimal.iteritems():\n",
    "    # count each artist in the list as a Series and then reatribute to the corresponding PID\n",
    "    artist_df_minimal[PID] = pd.Series(artists).value_counts().to_dict()"
   ]
  },
  {
   "cell_type": "code",
   "execution_count": 8,
   "id": "3dc33d6f",
   "metadata": {},
   "outputs": [
    {
     "data": {
      "text/plain": [
       "pid\n",
       "161000    {'The Chainsmokers': 4, 'Halsey': 3, 'Borgeous...\n",
       "161001    {'Green Day': 6, 'Everclear': 5, 'Sugar Ray': ...\n",
       "161002    {'George Strait': 13, 'Kenny Chesney': 10, 'Bl...\n",
       "161003    {'Gipsy Kings': 4, 'Mongo Santamaria': 2, 'Tex...\n",
       "161004    {'Ice Cube': 2, 'Westside Connection': 2, 'The...\n",
       "Name: artist_name, dtype: object"
      ]
     },
     "execution_count": 8,
     "metadata": {},
     "output_type": "execute_result"
    }
   ],
   "source": [
    "artist_df_minimal.head()"
   ]
  },
  {
   "cell_type": "code",
   "execution_count": 9,
   "id": "6f7191b6",
   "metadata": {},
   "outputs": [],
   "source": [
    "ARTISTS_GRAPH = nx.Graph()\n",
    "\n",
    "# Iterate over all playlist IDs and create a node for each artist found in the playlist and add an edge between them\n",
    "for PID, artist_dict in artist_df_minimal.iteritems():\n",
    "    # Create a node for each artist in the playlist PID\n",
    "    artist_array = [(artist, frequency) for artist, frequency in artist_dict.items()]\n",
    "    for node_name, node_frequecy in artist_array:\n",
    "        if not ARTISTS_GRAPH.has_node(node_name):\n",
    "            ARTISTS_GRAPH.add_node(node_name, PID=[PID])\n",
    "            ARTISTS_GRAPH.add_edge(node_name, node_name, weight=(node_frequecy - 1))\n",
    "        elif PID not in ARTISTS_GRAPH.nodes[node_name]['PID']:\n",
    "            ARTISTS_GRAPH.nodes[node_name]['PID'].append(PID)\n",
    "    \n",
    "    # Add edges between each artist in the playlist PID\n",
    "    artist_deque = deque(artist_array)\n",
    "    while artist_deque:\n",
    "        leftier_artist = artist_deque.popleft()\n",
    "        leftier_artist_name, leftier_artist_frequency = leftier_artist\n",
    "        for artist in artist_deque:\n",
    "            artist_name, artist_frequency = artist\n",
    "            if ARTISTS_GRAPH.has_edge(leftier_artist_name, artist_name):\n",
    "                ARTISTS_GRAPH[leftier_artist_name][artist_name]['weight'] += leftier_artist_frequency * artist_frequency\n",
    "            else:\n",
    "                ARTISTS_GRAPH.add_edge(leftier_artist_name, artist_name, weight=leftier_artist_frequency * artist_frequency)"
   ]
  },
  {
   "cell_type": "code",
   "execution_count": 10,
   "id": "c557a18f",
   "metadata": {},
   "outputs": [
    {
     "data": {
      "text/plain": [
       "False"
      ]
     },
     "execution_count": 10,
     "metadata": {},
     "output_type": "execute_result"
    }
   ],
   "source": [
    "nx.is_connected(ARTISTS_GRAPH)"
   ]
  },
  {
   "cell_type": "code",
   "execution_count": 11,
   "id": "50f9b2d6",
   "metadata": {},
   "outputs": [
    {
     "name": "stdout",
     "output_type": "stream",
     "text": [
      "Graph with 22565 nodes and 2727091 edges\n"
     ]
    }
   ],
   "source": [
    "artists_subgraph = nx.subgraph(ARTISTS_GRAPH, sorted(nx.connected_components(ARTISTS_GRAPH), key=len, reverse=True)[0])\n",
    "print(artists_subgraph)"
   ]
  },
  {
   "cell_type": "code",
   "execution_count": 12,
   "id": "d125baf5",
   "metadata": {},
   "outputs": [],
   "source": [
    "fig, ax = plt.subplots(1, 1, figsize=(20, 18))\n",
    "nx.draw_networkx(artists_subgraph, ax=ax, with_labels=False, node_size=1000)\n",
    "plt.axis(\"off\")\n",
    "plt.show()"
   ]
  },
  {
   "cell_type": "code",
   "execution_count": null,
   "id": "3a322aec",
   "metadata": {},
   "outputs": [],
   "source": [
    "nx.eccentricity(artists_subgraph)"
   ]
  },
  {
   "cell_type": "code",
   "execution_count": null,
   "id": "364f15d2",
   "metadata": {},
   "outputs": [],
   "source": [
    "# the diameter of networks is the maximum eccentricy\n",
    "print(\"Diameter of network (artists_subgraph): {}\".format(nx.diameter(artists_subgraph)))"
   ]
  },
  {
   "cell_type": "code",
   "execution_count": null,
   "id": "5dccfc25",
   "metadata": {},
   "outputs": [],
   "source": [
    "nx.periphery(artists_subgraph)"
   ]
  },
  {
   "cell_type": "code",
   "execution_count": null,
   "id": "19bcc0c7",
   "metadata": {},
   "outputs": [],
   "source": [
    "# the radius of a network is the minimum eccentricity\n",
    "print(\"Radius of network(g): {}\".format(nx.radius(artists_subgraph)))\n",
    "print([k for k,v in nx.eccentricity(artists_subgraph).items() if v == nx.radius(artists_subgraph)])"
   ]
  },
  {
   "cell_type": "code",
   "execution_count": null,
   "id": "830fa9c5",
   "metadata": {},
   "outputs": [],
   "source": [
    "nx.degree_centrality(artists_subgraph)"
   ]
  },
  {
   "cell_type": "code",
   "execution_count": null,
   "id": "eaff6533",
   "metadata": {},
   "outputs": [],
   "source": [
    "nx.closeness_centrality(artists_subgraph)"
   ]
  },
  {
   "cell_type": "code",
   "execution_count": null,
   "id": "b3161264",
   "metadata": {},
   "outputs": [],
   "source": [
    "nx.betweenness_centrality(artists_subgraph)"
   ]
  },
  {
   "cell_type": "code",
   "execution_count": null,
   "id": "d8a04c0a",
   "metadata": {},
   "outputs": [],
   "source": [
    "nx.eigenvector_centrality(artists_subgraph)"
   ]
  },
  {
   "cell_type": "code",
   "execution_count": null,
   "id": "ad701a3b",
   "metadata": {},
   "outputs": [],
   "source": [
    "fig, ax = plt.subplots(1, 1, figsize=(20, 18))\n",
    "\n",
    "# layout position\n",
    "pos = nx.spring_layout(artists_subgraph, seed=123456789, k=0.3)\n",
    "# color of nodes based on eccentricity\n",
    "color = list(dict(nx.eccentricity(artists_subgraph)).values())\n",
    "\n",
    "# draw edges\n",
    "nx.draw_networkx_edges(artists_subgraph,\n",
    "                       pos=pos,\n",
    "                       alpha=0.4, ax=ax)\n",
    "\n",
    "# draw nodes\n",
    "nodes = nx.draw_networkx_nodes(artists_subgraph,\n",
    "                 pos=pos,\n",
    "                 node_color=color,\n",
    "                 cmap=plt.cm.jet,ax=ax)\n",
    "\n",
    "# draw labels\n",
    "nx.draw_networkx_labels(artists_subgraph, pos=pos,\n",
    "                        font_color='white', ax=ax)\n",
    "\n",
    "\n",
    "plt.axis(\"off\")\n",
    "plt.colorbar(nodes)\n",
    "plt.savefig('eccentricity.png', transparent=True,dpi=300)\n",
    "plt.show()"
   ]
  },
  {
   "cell_type": "code",
   "execution_count": null,
   "id": "19fb7475",
   "metadata": {},
   "outputs": [],
   "source": [
    "# the degree of network(g)\n",
    "fig, ax = plt.subplots(1, 1, figsize=(20, 18))\n",
    "\n",
    "# layout position\n",
    "pos = nx.spring_layout(artists_subgraph, seed=123456789, k=0.3)\n",
    "# color of nodes\n",
    "color = list(dict(nx.degree(artists_subgraph)).values())\n",
    "\n",
    "# draw edges\n",
    "nx.draw_networkx_edges(artists_subgraph,\n",
    "                       pos=pos,\n",
    "                       alpha=0.4, ax=ax)\n",
    "\n",
    "# draw nodes\n",
    "nodes = nx.draw_networkx_nodes(artists_subgraph,\n",
    "                 pos=pos,\n",
    "                 node_color=color,\n",
    "                 cmap=plt.cm.jet,ax=ax)\n",
    "\n",
    "# draw labels\n",
    "nx.draw_networkx_labels(artists_subgraph, pos=pos,\n",
    "                        font_color='white', ax=ax)\n",
    "\n",
    "\n",
    "plt.axis(\"off\")\n",
    "plt.colorbar(nodes)\n",
    "plt.savefig('degree.png', transparent=True,dpi=300)\n",
    "plt.show()"
   ]
  },
  {
   "cell_type": "code",
   "execution_count": null,
   "id": "831ce644",
   "metadata": {},
   "outputs": [],
   "source": [
    "# the closeness centrality of network(g)\n",
    "fig, ax = plt.subplots(1, 1, figsize=(20, 18))\n",
    "\n",
    "# layout position\n",
    "pos = nx.spring_layout(artists_subgraph, seed=123456789, k=0.3)\n",
    "# color of nodes\n",
    "color = list(dict(nx.closeness_centrality(artists_subgraph)).values())\n",
    "\n",
    "# draw edges\n",
    "nx.draw_networkx_edges(artists_subgraph,\n",
    "                       pos=pos,\n",
    "                       alpha=0.4, ax=ax)\n",
    "\n",
    "# draw nodes\n",
    "nodes = nx.draw_networkx_nodes(artists_subgraph,\n",
    "                 pos=pos,\n",
    "                 node_color=color,\n",
    "                 cmap=plt.cm.jet,\n",
    "                 ax=ax)\n",
    "\n",
    "# draw labels\n",
    "nx.draw_networkx_labels(artists_subgraph, pos=pos,\n",
    "                        font_color='white', ax=ax)\n",
    "\n",
    "\n",
    "plt.axis(\"off\")\n",
    "plt.colorbar(nodes)\n",
    "plt.savefig('closeness_centrality.png', transparent=True,dpi=600)\n",
    "plt.show()"
   ]
  },
  {
   "cell_type": "code",
   "execution_count": null,
   "id": "f28c8c62",
   "metadata": {},
   "outputs": [],
   "source": [
    "# the betwenness centrality of network(g)\n",
    "fig, ax = plt.subplots(1, 1, figsize=(20, 18))\n",
    "\n",
    "# layout position\n",
    "pos = nx.spring_layout(artists_subgraph, seed=123456789, k=0.3)\n",
    "# color of nodes\n",
    "color = list(dict(nx.betweenness_centrality(artists_subgraph)).values())\n",
    "\n",
    "# draw edges\n",
    "nx.draw_networkx_edges(artists_subgraph,\n",
    "                       pos=pos,\n",
    "                       alpha=0.4, ax=ax)\n",
    "\n",
    "# draw nodes\n",
    "nodes = nx.draw_networkx_nodes(artists_subgraph,\n",
    "                 pos=pos,\n",
    "                 node_color=color,\n",
    "                 cmap=plt.cm.jet,\n",
    "                 ax=ax)\n",
    "\n",
    "# draw labels\n",
    "nx.draw_networkx_labels(artists_subgraph, pos=pos,\n",
    "                        font_color='white', ax=ax)\n",
    "\n",
    "\n",
    "plt.axis(\"off\")\n",
    "plt.colorbar(nodes)\n",
    "plt.savefig('betweenness_centrality.png', transparent=True,dpi=600)\n",
    "plt.show()"
   ]
  },
  {
   "cell_type": "code",
   "execution_count": null,
   "id": "5c5f12ab",
   "metadata": {},
   "outputs": [],
   "source": [
    "# the eigenvector centrality of network(g)\n",
    "fig, ax = plt.subplots(1, 1, figsize=(20, 18))\n",
    "\n",
    "# layout position\n",
    "pos = nx.spring_layout(artists_subgraph, seed=123456789, k=0.3)\n",
    "# color of nodes\n",
    "color = list(dict(nx.eigenvector_centrality(artists_subgraph)).values())\n",
    "\n",
    "# draw edges\n",
    "nx.draw_networkx_edges(artists_subgraph,\n",
    "                       pos=pos,\n",
    "                       alpha=0.4, ax=ax)\n",
    "\n",
    "# draw nodes\n",
    "nodes = nx.draw_networkx_nodes(artists_subgraph,\n",
    "                 pos=pos,\n",
    "                 node_color=color,\n",
    "                 cmap=plt.cm.jet,\n",
    "                 ax=ax)\n",
    "\n",
    "# draw labels\n",
    "nx.draw_networkx_labels(artists_subgraph, pos=pos,\n",
    "                        font_color='white', ax=ax)\n",
    "\n",
    "\n",
    "plt.axis(\"off\")\n",
    "plt.colorbar(nodes)\n",
    "plt.savefig('eigenvector_centrality.png', transparent=True,dpi=600)\n",
    "plt.show()"
   ]
  },
  {
   "cell_type": "code",
   "execution_count": null,
   "id": "86964189",
   "metadata": {},
   "outputs": [],
   "source": [
    "# the eigenvector centrality of network(g)\n",
    "fig, ax = plt.subplots(2, 2, figsize=(40, 36))\n",
    "\n",
    "# max value of metrics \n",
    "max_centrality = max([max([v for k, v in nx.eigenvector_centrality(artists_subgraph).items()]),\n",
    "                      max([v for k, v in nx.degree_centrality(artists_subgraph).items()]),\n",
    "                      max([v for k, v in nx.closeness_centrality(artists_subgraph).items()]),\n",
    "                      max([v for k, v in nx.betweenness_centrality(artists_subgraph).items()])])\n",
    "\n",
    "# layout position\n",
    "pos = nx.spring_layout(g,seed=123456789,k=0.3)\n",
    "\n",
    "# color of nodes\n",
    "color_degree = list(dict(nx.degree_centrality(artists_subgraph)).values())\n",
    "color_closeness = list(dict(nx.closeness_centrality(artists_subgraph)).values())\n",
    "color_betweenness = list(dict(nx.betweenness_centrality(artists_subgraph)).values())\n",
    "color_eigenvector = list(dict(nx.eigenvector_centrality(artists_subgraph)).values())\n",
    "\n",
    "# \n",
    "# draw edges\n",
    "#\n",
    "# degree centrality\n",
    "nx.draw_networkx_edges(artists_subgraph,\n",
    "                       pos=pos,\n",
    "                       alpha=0.4, ax=ax[0,0])\n",
    "\n",
    "# closeness centrality\n",
    "nx.draw_networkx_edges(artists_subgraph,\n",
    "                       pos=pos,\n",
    "                       alpha=0.4, ax=ax[0,1])\n",
    "\n",
    "# betweenness centrality\n",
    "nx.draw_networkx_edges(artists_subgraph,\n",
    "                       pos=pos,\n",
    "                       alpha=0.4, ax=ax[1,0])\n",
    "\n",
    "# eigenvector centrality\n",
    "nx.draw_networkx_edges(artists_subgraph,\n",
    "                       pos=pos,\n",
    "                       alpha=0.4, ax=ax[1,1])\n",
    "\n",
    "# draw nodes\n",
    "nodes = nx.draw_networkx_nodes(artists_subgraph,\n",
    "                 pos=pos,\n",
    "                 node_color=color_degree,\n",
    "                 cmap=plt.cm.jet,vmin=0,vmax=max_centrality,\n",
    "                 ax=ax[0,0])\n",
    "nodes = nx.draw_networkx_nodes(artists_subgraph,\n",
    "                 pos=pos,\n",
    "                 node_color=color_closeness,\n",
    "                 cmap=plt.cm.jet,vmin=0,vmax=max_centrality,\n",
    "                 ax=ax[0,1])\n",
    "nodes = nx.draw_networkx_nodes(artists_subgraph,\n",
    "                 pos=pos,\n",
    "                 node_color=color_betweenness,\n",
    "                 cmap=plt.cm.jet,vmin=0,vmax=max_centrality,\n",
    "                 ax=ax[1,0])\n",
    "nodes = nx.draw_networkx_nodes(artists_subgraph,\n",
    "                 pos=pos,\n",
    "                 node_color=color_eigenvector,\n",
    "                 cmap=plt.cm.jet,vmin=0,vmax=max_centrality,\n",
    "                 ax=ax[1,1])\n",
    "\n",
    "# \n",
    "# draw labels\n",
    "#\n",
    "nx.draw_networkx_labels(artists_subgraph, pos=pos,\n",
    "                        font_color='white', ax=ax[0,0])\n",
    "nx.draw_networkx_labels(artists_subgraph, pos=pos,\n",
    "                        font_color='white', ax=ax[0,1])\n",
    "nx.draw_networkx_labels(artists_subgraph, pos=pos,\n",
    "                        font_color='white', ax=ax[1,0])\n",
    "nx.draw_networkx_labels(artists_subgraph, pos=pos,\n",
    "                        font_color='white', ax=ax[1,1])\n",
    "\n",
    "# eliminate axis\n",
    "ax[0,0].axis(\"off\")\n",
    "ax[1,0].axis(\"off\")\n",
    "ax[0,1].axis(\"off\")\n",
    "ax[1,1].axis(\"off\")\n",
    "\n",
    "ax[0,0].set_title(\"Degree Centraliy\")\n",
    "ax[0,1].set_title(\"Closeness Centraliy\")\n",
    "ax[1,0].set_title(\"Betweenness Centraliy\")\n",
    "ax[1,1].set_title(\"Eigenvector Centraliy\")\n",
    "\n",
    "\n",
    "# Create an unique colorbar\n",
    "# reference: https://stackoverflow.com/questions/60848582/unique-colorbar-at-the-right-of-multiple-subplots\n",
    "plt.subplots_adjust(bottom=0., right=0.92, top=1.)\n",
    "cax = plt.axes([0.95, 0.3, 0.025, 0.4])\n",
    "sm = plt.cm.ScalarMappable(cmap=plt.cm.jet, norm=plt.Normalize(vmin=0, vmax=max_centrality))\n",
    "cbar=plt.colorbar(sm,cax)\n",
    "\n",
    "plt.savefig('alltogether.png', transparent=True,dpi=600,bbox_inches=\"tight\")\n",
    "plt.show()"
   ]
  }
 ],
 "metadata": {
  "kernelspec": {
   "display_name": "Python 3 (ipykernel)",
   "language": "python",
   "name": "python3"
  },
  "language_info": {
   "codemirror_mode": {
    "name": "ipython",
    "version": 3
   },
   "file_extension": ".py",
   "mimetype": "text/x-python",
   "name": "python",
   "nbconvert_exporter": "python",
   "pygments_lexer": "ipython3",
   "version": "3.8.12"
  }
 },
 "nbformat": 4,
 "nbformat_minor": 5
}
